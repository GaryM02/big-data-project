{
  "nbformat": 4,
  "nbformat_minor": 0,
  "metadata": {
    "colab": {
      "provenance": [],
      "collapsed_sections": [
        "ZzbB8x-dC4Cl",
        "tqpEpaDADALr",
        "VGHc8HLzpcRW",
        "emxIpW7Mq8cF",
        "jZHBlA9mrCbd",
        "4Jp9pRHx8-wQ",
        "RNvZz7c2-hiX",
        "e1Y65ynV_fD8"
      ],
      "authorship_tag": "ABX9TyP6tnwIYf5VdZpxQsjisy6U",
      "include_colab_link": true
    },
    "kernelspec": {
      "name": "python3",
      "display_name": "Python 3"
    },
    "language_info": {
      "name": "python"
    }
  },
  "cells": [
    {
      "cell_type": "markdown",
      "metadata": {
        "id": "view-in-github",
        "colab_type": "text"
      },
      "source": [
        "<a href=\"https://colab.research.google.com/github/GaryM02/big-data-project/blob/main/big_data_project.ipynb\" target=\"_parent\"><img src=\"https://colab.research.google.com/assets/colab-badge.svg\" alt=\"Open In Colab\"/></a>"
      ]
    },
    {
      "cell_type": "markdown",
      "source": [
        "# Research Objectives\n",
        "\n",
        "1. What is the distribution between a players rating and their position?\n",
        "2. What is the distribution of Players who kick with their left foot and their rating?\n",
        "3. Does rating have any correlation to height, foot, position etc. ?\n",
        "4. Are goalkeepers on average taller than outfield players?\n",
        "5. Do outfield players have a higher average rating than goalkeepers?\n",
        "6. Does outfield players positions have any affect on rating?\n",
        "\n"
      ],
      "metadata": {
        "id": "huNU_w2-s6AZ"
      }
    },
    {
      "cell_type": "markdown",
      "source": [
        "# Data Collection and Cleaning"
      ],
      "metadata": {
        "id": "1I8sVVlBn8qC"
      }
    },
    {
      "cell_type": "code",
      "execution_count": 113,
      "metadata": {
        "id": "wtzI5ibDVUSl"
      },
      "outputs": [],
      "source": [
        "import pandas as pd\n",
        "\n",
        "# Load the FIFA dataset into a Pandas DataFrame\n",
        "df = pd.read_csv('https://raw.githubusercontent.com/GaryM02/big-data-project/main/fifa.csv')\n"
      ]
    },
    {
      "cell_type": "code",
      "source": [
        "df = df.rename(columns={' id': 'id'})\n",
        "df = df.rename(columns={' name': 'name'})\n",
        "df = df.rename(columns={' rating': 'rating'})\n",
        "df = df.rename(columns={' position': 'position'})\n",
        "df = df.rename(columns={' height': 'height'})\n",
        "df = df.rename(columns={' foot': 'foot'})\n",
        "df = df.rename(columns={' rare': 'rare'})\n",
        "df = df.rename(columns={' pace': 'pace'})\n",
        "df = df.rename(columns={' shooting': 'shooting'})\n",
        "df = df.rename(columns={' passing': 'passing'})\n",
        "df = df.rename(columns={' shooting': 'shooting'})\n",
        "df = df.rename(columns={' dribbling': 'dribbling'})\n",
        "df = df.rename(columns={' defending': 'defending'})\n",
        "df = df.rename(columns={' heading': 'heading'})\n",
        "df = df.rename(columns={' diving': 'diving'})\n",
        "df = df.rename(columns={' handling': 'handling'})\n",
        "df = df.rename(columns={' kicking': 'kicking'})\n",
        "df = df.rename(columns={' reflexes': 'reflexes'})\n",
        "df = df.rename(columns={' speed': 'speed'})\n",
        "df = df.rename(columns={' positioning': 'positioning'})\n",
        "df = df.rename(columns={' shooting': 'shooting'})\n"
      ],
      "metadata": {
        "id": "m7e2ccWFV4jS"
      },
      "execution_count": 77,
      "outputs": []
    },
    {
      "cell_type": "code",
      "source": [
        "import matplotlib.pyplot as plt"
      ],
      "metadata": {
        "id": "TwnDLfgd-bCX"
      },
      "execution_count": 78,
      "outputs": []
    },
    {
      "cell_type": "markdown",
      "source": [],
      "metadata": {
        "id": "QrfDetGzGnSg"
      }
    },
    {
      "cell_type": "markdown",
      "source": [
        "## What is the distribution between a players rating and their position?"
      ],
      "metadata": {
        "id": "ZzbB8x-dC4Cl"
      }
    },
    {
      "cell_type": "code",
      "source": [
        "# Group the data by position and calculate the mean, median, and standard deviation of the overall ratings\n",
        "grouped_data = df.groupby('position')['rating'].agg(['mean', 'median', 'std'])"
      ],
      "metadata": {
        "id": "Q9wrNBJW-gnr"
      },
      "execution_count": 79,
      "outputs": []
    },
    {
      "cell_type": "code",
      "source": [
        "# Print the results\n",
        "print(grouped_data)"
      ],
      "metadata": {
        "colab": {
          "base_uri": "https://localhost:8080/"
        },
        "id": "fsxZ1Tcw-j6a",
        "outputId": "384a52c0-1ce2-4503-b569-51108fdfd9d2"
      },
      "execution_count": 80,
      "outputs": [
        {
          "output_type": "stream",
          "name": "stdout",
          "text": [
            "               mean  median       std\n",
            "position                             \n",
            " A        67.260807    67.0  7.271735\n",
            " D        66.059055    66.0  6.764867\n",
            " GK       65.918280    66.0  7.673490\n",
            " M        67.087142    67.0  7.173322\n"
          ]
        }
      ]
    },
    {
      "cell_type": "code",
      "source": [
        "# Create a box plot to visualize the distribution of overall ratings by position\n",
        "df.boxplot(column=['rating'], by=['position'], figsize=(10, 6))\n",
        "plt.title('Distribution of Overall Ratings by Position')\n",
        "plt.ylabel('Overall Rating')\n",
        "plt.show()"
      ],
      "metadata": {
        "colab": {
          "base_uri": "https://localhost:8080/",
          "height": 578
        },
        "id": "vVbbeRgf-wSk",
        "outputId": "4b9c686b-36b5-4809-d232-5b97703c4efe"
      },
      "execution_count": 81,
      "outputs": [
        {
          "output_type": "display_data",
          "data": {
            "text/plain": [
              "<Figure size 1000x600 with 1 Axes>"
            ],
            "image/png": "[encoded data removed]"
          },
          "metadata": {}
        }
      ]
    },
    {
      "cell_type": "markdown",
      "source": [
        "Our box plot suggests that the data is not skewed. Additionally, if the means of the different groups are similar, this indicates that there is no significant difference between the groups. This means that the central tendency and the variability of the data is consistent across all the groups, and there is no bias towards one particular group. If we look at our box plot we can see our green line representing our medians do not fall outside the interquartile range of the other groups."
      ],
      "metadata": {
        "id": "3jZk_-0DB_yC"
      }
    },
    {
      "cell_type": "markdown",
      "source": [
        "## What is the distribution of Players who kick with their left foot?"
      ],
      "metadata": {
        "id": "tqpEpaDADALr"
      }
    },
    {
      "cell_type": "code",
      "source": [
        "# Group the data by position and calculate the mean, median, and standard deviation of the overall ratings\n",
        "grouped_data = df.groupby('foot')['rating'].agg(['mean', 'median', 'std'])"
      ],
      "metadata": {
        "id": "2FPyLi3ODA_v"
      },
      "execution_count": 110,
      "outputs": []
    },
    {
      "cell_type": "code",
      "source": [
        "# Print the results\n",
        "print(grouped_data)"
      ],
      "metadata": {
        "colab": {
          "base_uri": "https://localhost:8080/"
        },
        "id": "1-PxYnRmDi3Q",
        "outputId": "32c45d9a-41db-4c49-b7f5-4ed6c533ca9b"
      },
      "execution_count": 111,
      "outputs": [
        {
          "output_type": "stream",
          "name": "stdout",
          "text": [
            "             mean  median       std\n",
            "foot                               \n",
            " Left   66.924006    66.0  6.740460\n",
            " Right  66.718381    66.0  7.186522\n"
          ]
        }
      ]
    },
    {
      "cell_type": "code",
      "source": [
        "# Create a box plot to visualize the distribution of overall ratings by position\n",
        "df.boxplot(column=['rating'], by=['foot'], figsize=(10, 6))\n",
        "plt.title('Distribution of Overall Ratings by which foot a player kicks with')\n",
        "plt.ylabel('Overall Rating')\n",
        "plt.show()"
      ],
      "metadata": {
        "colab": {
          "base_uri": "https://localhost:8080/",
          "height": 578
        },
        "id": "tNCCguIGDtr3",
        "outputId": "6c4c3377-234a-42b7-adec-edc75ad956f0"
      },
      "execution_count": 112,
      "outputs": [
        {
          "output_type": "display_data",
          "data": {
            "text/plain": [
              "<Figure size 1000x600 with 1 Axes>"
            ],
            "image/png": "[encoded data removed]"
          },
          "metadata": {}
        }
      ]
    },
    {
      "cell_type": "markdown",
      "source": [
        "Our box plot suggests that the data is not skewed. Additionally, if the means of the different groups are similar, this indicates that there is no significant difference between the groups. This means that the central tendency and the variability of the data is consistent across all the groups, and there is no bias towards one particular group. If we look at our box plot we can see our green line representing our medians do not fall outside the interquartile range of the other groups."
      ],
      "metadata": {
        "id": "Y1lC6Y3-EHXb"
      }
    },
    {
      "cell_type": "markdown",
      "source": [
        "## Organising data-types and accounting for Null attributes\n",
        "In this section the column data-types are observed and adjusted to better represent the data collected for analysis and to reduce memory usage.\n",
        "\n",
        "The data-frame will be split into two copies:\n",
        "\n",
        "df - outfielders dataframe\n",
        "\n",
        "gk_df - goalkeepers dataframe"
      ],
      "metadata": {
        "id": "VGHc8HLzpcRW"
      }
    },
    {
      "cell_type": "code",
      "source": [
        "# Print the data types of each column\n",
        "print(df.dtypes)"
      ],
      "metadata": {
        "colab": {
          "base_uri": "https://localhost:8080/"
        },
        "id": "uvHmoB-YX6gq",
        "outputId": "f6bcca45-8f98-4fc2-f048-c399e75e8a01"
      },
      "execution_count": 83,
      "outputs": [
        {
          "output_type": "stream",
          "name": "stdout",
          "text": [
            "id               int64\n",
            "name            object\n",
            "rating           int64\n",
            "position        object\n",
            "height           int64\n",
            "foot            object\n",
            "rare             int64\n",
            "pace            object\n",
            "shooting        object\n",
            "passing         object\n",
            "dribbling       object\n",
            "defending       object\n",
            "heading         object\n",
            "diving          object\n",
            "handling        object\n",
            "kicking         object\n",
            "reflexes        object\n",
            "speed           object\n",
            "positioning    float64\n",
            "dtype: object\n"
          ]
        }
      ]
    },
    {
      "cell_type": "code",
      "source": [
        "gk_df = df[['name', 'rating', 'position', 'height', 'foot', 'rare', 'diving', 'handling', 'kicking', 'reflexes', 'speed', 'positioning']].copy()\n",
        "gk_df = gk_df.drop(gk_df[(gk_df.position != ' GK')].index)\n",
        "print(gk_df.head())\n",
        "\n",
        "df = df.drop(['id', 'diving', 'handling', 'kicking', 'reflexes', 'speed', 'positioning'], axis=1)\n"
      ],
      "metadata": {
        "colab": {
          "base_uri": "https://localhost:8080/"
        },
        "id": "w_9ziPf-eE_K",
        "outputId": "849ecc06-cafc-4e6e-c70a-462d4045b7db"
      },
      "execution_count": 85,
      "outputs": [
        {
          "output_type": "stream",
          "name": "stdout",
          "text": [
            "                  name  rating position  height    foot  rare diving handling  \\\n",
            "0         Gábor Király      69       GK     191   Right     0     70       66   \n",
            "20          Paul Smith      64       GK     193   Right     1     65       62   \n",
            "29   Stefanos Kotsolis      65       GK     190   Right     0     62       68   \n",
            "31      Steve Phillips      61       GK     185   Right     1     46       65   \n",
            "39         Oka Nikolov      70       GK     188   Right     0     72       64   \n",
            "\n",
            "   kicking reflexes speed positioning  \n",
            "0       63       74    35        66.0  \n",
            "20      55       67    41        62.0  \n",
            "29      62       65    60        64.0  \n",
            "31      76       71    31        61.0  \n",
            "39      59       73    61        73.0  \n"
          ]
        }
      ]
    },
    {
      "cell_type": "code",
      "source": [
        "df = df.drop(df[(df.position == ' GK')].index)\n",
        "print(df.head())"
      ],
      "metadata": {
        "colab": {
          "base_uri": "https://localhost:8080/"
        },
        "id": "9b_GpMXvi49G",
        "outputId": "c712af27-1c51-41bd-f4e7-36d54407889f"
      },
      "execution_count": 86,
      "outputs": [
        {
          "output_type": "stream",
          "name": "stdout",
          "text": [
            "                      name  rating position  height    foot  rare pace  \\\n",
            "1             Frederik Boi      65        M     184   Right     0   61   \n",
            "2          Tomasz Szewczuk      57        A     185   Right     0   65   \n",
            "3   Steeve Joseph-Reinette      63        D     180    Left     0   68   \n",
            "4             Kamel Chafni      72        M     181   Right     0   75   \n",
            "5           Abdoulaye Faye      72        D     187   Right     1   50   \n",
            "\n",
            "  shooting passing dribbling defending heading  \n",
            "1       65      63        59        62      62  \n",
            "2       54      43        53        55      74  \n",
            "3       38      51        46        64      71  \n",
            "4       64      67        72        57      66  \n",
            "5       37      47        43        76      82  \n"
          ]
        }
      ]
    },
    {
      "cell_type": "code",
      "source": [
        "df['name'] = df['name'].astype(str)\n",
        "df['rating'] = df['rating'].astype('int16')\n",
        "df['position'] = df['position'].astype(str)\n",
        "df['height'] = df['height'].astype('int16')\n",
        "df['foot'] = df['foot'].astype(str)\n",
        "df['rare'] = df['rare'].astype('uint8')\n",
        "df['pace'] = df['pace'].astype('uint8')\n",
        "df['shooting'] = df['shooting'].astype('uint8')\n",
        "df['passing'] = df['passing'].astype('uint8')\n",
        "df['dribbling'] = df['dribbling'].astype('uint8')\n",
        "df['defending'] = df['defending'].astype('uint8')\n",
        "df['heading'] = df['heading'].astype('uint8')\n",
        "\n",
        "# Print the data types of each column\n",
        "print(df.dtypes)"
      ],
      "metadata": {
        "colab": {
          "base_uri": "https://localhost:8080/"
        },
        "id": "h3sI-r9Fj1Mo",
        "outputId": "6318bc4c-8214-4ccf-8b89-401c3aac5d62"
      },
      "execution_count": 90,
      "outputs": [
        {
          "output_type": "stream",
          "name": "stdout",
          "text": [
            "name         object\n",
            "rating        int16\n",
            "position     object\n",
            "height        int16\n",
            "foot         object\n",
            "rare          uint8\n",
            "pace          uint8\n",
            "shooting      uint8\n",
            "passing       uint8\n",
            "dribbling     uint8\n",
            "defending     uint8\n",
            "heading       uint8\n",
            "dtype: object\n"
          ]
        }
      ]
    },
    {
      "cell_type": "code",
      "source": [
        "gk_df['diving'] = gk_df['diving'].astype('uint8')\n",
        "gk_df['handling'] = gk_df['handling'].astype('uint8')\n",
        "gk_df['kicking'] = gk_df['kicking'].astype('uint8')\n",
        "gk_df['reflexes'] = gk_df['reflexes'].astype('uint8')\n",
        "gk_df['speed'] = gk_df['speed'].astype('uint8')\n",
        "gk_df['positioning'] = gk_df['positioning'].astype('float16')\n",
        "# Print the data types of each column\n",
        "print(gk_df.dtypes)"
      ],
      "metadata": {
        "colab": {
          "base_uri": "https://localhost:8080/"
        },
        "id": "IRRwj1QAmr40",
        "outputId": "d74b3fbf-b560-4713-fdca-d6680d82ca39"
      },
      "execution_count": 97,
      "outputs": [
        {
          "output_type": "stream",
          "name": "stdout",
          "text": [
            "name            object\n",
            "rating           int16\n",
            "position        object\n",
            "height           int16\n",
            "foot            object\n",
            "rare             uint8\n",
            "diving           uint8\n",
            "handling         uint8\n",
            "kicking          uint8\n",
            "reflexes         uint8\n",
            "speed            uint8\n",
            "positioning    float16\n",
            "dtype: object\n"
          ]
        }
      ]
    },
    {
      "cell_type": "markdown",
      "source": [
        "## Calculating correlation coefficients\n",
        "\n",
        "Calculating correlation coefficients between overall rating and individual attributes such as pace, shooting, passing, and dribbling is a useful way to examine whether there is any correlation between overall rating and other player attributes in the FIFA dataset. A correlation coefficient ranges between -1 and 1, with 0 indicating no correlation, -1 indicating a perfect negative correlation, and 1 indicating a perfect positive correlation. A correlation coefficient close to 1 or -1 suggests a strong correlation between the two variables, while a coefficient close to 0 suggests little or no correlation.\n",
        "\n",
        "Creating scatter plots is another way to visualize the relationship between overall rating and each attribute. By plotting the values of each attribute on the x-axis and the corresponding overall rating on the y-axis, we can see whether there is a clear pattern or trend in the data. If there is a strong positive correlation, we would expect to see a diagonal line sloping upwards from left to right. If there is a strong negative correlation, we would expect to see a diagonal line sloping downwards from left to right. If there is no correlation, we would expect to see a scatter of points with no clear pattern.\n",
        "\n",
        "Overall, examining correlations between overall rating and individual attributes is a useful way to gain insights into how the different attributes contribute to a player's overall rating. It can also help identify which attributes are most important for certain positions or playing styles."
      ],
      "metadata": {
        "id": "ePIsantaC7Nt"
      }
    },
    {
      "cell_type": "markdown",
      "source": [
        "### Outfielders"
      ],
      "metadata": {
        "id": "emxIpW7Mq8cF"
      }
    },
    {
      "cell_type": "code",
      "source": [
        "# calculate correlation coefficients matrix\n",
        "correlations = df.corr()\n",
        "\n",
        "print(correlations)"
      ],
      "metadata": {
        "colab": {
          "base_uri": "https://localhost:8080/"
        },
        "id": "hKo-EYmiDpDD",
        "outputId": "70e00402-0db8-4e7a-d4b9-a2c5da62019e"
      },
      "execution_count": 98,
      "outputs": [
        {
          "output_type": "stream",
          "name": "stdout",
          "text": [
            "             rating    height      rare      pace  shooting   passing  \\\n",
            "rating     1.000000 -0.002019  0.251950  0.265640  0.541683  0.633406   \n",
            "height    -0.002019  1.000000 -0.023979 -0.392051 -0.219175 -0.273012   \n",
            "rare       0.251950 -0.023979  1.000000  0.276355  0.244903  0.126480   \n",
            "pace       0.265640 -0.392051  0.276355  1.000000  0.360584  0.260352   \n",
            "shooting   0.541683 -0.219175  0.244903  0.360584  1.000000  0.558012   \n",
            "passing    0.633406 -0.273012  0.126480  0.260352  0.558012  1.000000   \n",
            "dribbling  0.539971 -0.401063  0.227765  0.573711  0.783148  0.656681   \n",
            "defending  0.387013  0.356490 -0.057604 -0.291526 -0.239953  0.228389   \n",
            "heading    0.439104  0.367099  0.051384 -0.113837  0.031571  0.005945   \n",
            "\n",
            "           dribbling  defending   heading  \n",
            "rating      0.539971   0.387013  0.439104  \n",
            "height     -0.401063   0.356490  0.367099  \n",
            "rare        0.227765  -0.057604  0.051384  \n",
            "pace        0.573711  -0.291526 -0.113837  \n",
            "shooting    0.783148  -0.239953  0.031571  \n",
            "passing     0.656681   0.228389  0.005945  \n",
            "dribbling   1.000000  -0.266005 -0.110206  \n",
            "defending  -0.266005   1.000000  0.543090  \n",
            "heading    -0.110206   0.543090  1.000000  \n"
          ]
        },
        {
          "output_type": "stream",
          "name": "stderr",
          "text": [
            "<ipython-input-98-bea57e9ce15e>:2: FutureWarning: The default value of numeric_only in DataFrame.corr is deprecated. In a future version, it will default to False. Select only valid columns or specify the value of numeric_only to silence this warning.\n",
            "  correlations = df.corr()\n"
          ]
        }
      ]
    },
    {
      "cell_type": "markdown",
      "source": [
        "### Goalkeepers"
      ],
      "metadata": {
        "id": "jZHBlA9mrCbd"
      }
    },
    {
      "cell_type": "code",
      "source": [
        "# calculate correlation coefficients matrix\n",
        "gk_correlations = gk_df.corr()\n",
        "\n",
        "print(gk_correlations)"
      ],
      "metadata": {
        "colab": {
          "base_uri": "https://localhost:8080/"
        },
        "id": "zU8HWuDRojvV",
        "outputId": "d0fcf1ea-9f2b-48c2-b300-841357e93f9d"
      },
      "execution_count": 100,
      "outputs": [
        {
          "output_type": "stream",
          "name": "stdout",
          "text": [
            "               rating    height      rare    diving  handling   kicking  \\\n",
            "rating       1.000000  0.099763  0.231273  0.920651  0.896627  0.702664   \n",
            "height       0.099763  1.000000  0.046735  0.091859  0.112361  0.086684   \n",
            "rare         0.231273  0.046735  1.000000  0.195529  0.230818  0.262367   \n",
            "diving       0.920651  0.091859  0.195529  1.000000  0.742630  0.619452   \n",
            "handling     0.896627  0.112361  0.230818  0.742630  1.000000  0.675943   \n",
            "kicking      0.702664  0.086684  0.262367  0.619452  0.675943  1.000000   \n",
            "reflexes     0.893557  0.056339  0.216361  0.858516  0.697350  0.555723   \n",
            "speed        0.214803 -0.021480  0.004306  0.235284  0.142400  0.129424   \n",
            "positioning  0.900010  0.084102  0.199900  0.740798  0.845211  0.637982   \n",
            "\n",
            "             reflexes     speed  positioning  \n",
            "rating       0.893557  0.214803     0.900010  \n",
            "height       0.056339 -0.021480     0.084102  \n",
            "rare         0.216361  0.004306     0.199900  \n",
            "diving       0.858516  0.235284     0.740798  \n",
            "handling     0.697350  0.142400     0.845211  \n",
            "kicking      0.555723  0.129424     0.637982  \n",
            "reflexes     1.000000  0.237122     0.701991  \n",
            "speed        0.237122  1.000000     0.103384  \n",
            "positioning  0.701991  0.103384     1.000000  \n"
          ]
        },
        {
          "output_type": "stream",
          "name": "stderr",
          "text": [
            "<ipython-input-100-dde6c4258c96>:2: FutureWarning: The default value of numeric_only in DataFrame.corr is deprecated. In a future version, it will default to False. Select only valid columns or specify the value of numeric_only to silence this warning.\n",
            "  gk_correlations = gk_df.corr()\n"
          ]
        }
      ]
    },
    {
      "cell_type": "markdown",
      "source": [
        "### Does rating have any correlation to an outfield players attributes?\n",
        "\n",
        "The correlation coefficient between rating and each of the other attributes is as follows:\n",
        "\n",
        "height: -0.002019\n",
        "\n",
        "rare: 0.251950\n",
        "\n",
        "pace: 0.265640\n",
        "\n",
        "shooting: 0.541683\n",
        "\n",
        "passing: 0.633406\n",
        "\n",
        "dribbling: 0.539971\n",
        "\n",
        "defending: 0.387013\n",
        "\n",
        "heading: 0.439104\n",
        "\n",
        "The correlation coefficients between rating and all other attributes are not close to zero, which suggests that there is a relationship between them.\n",
        "\n",
        "In particular, we can see that the highest correlation coefficients are with passing, dribbling, and shooting, indicating that these attributes may have a stronger influence on a player's overall rating.\n",
        "\n",
        "### Does rating have any correlation to a goalkeepers attributes?\n",
        "\n",
        "There is a strong positive correlation between rating and several other attributes, namely diving (0.92), handling (0.90), reflexes (0.89), and positioning (0.90). These correlations suggest that higher rated players tend to have better diving, handling, reflexes, and positioning skills compared to lower rated players.\n"
      ],
      "metadata": {
        "id": "1EPGB8B45K6V"
      }
    },
    {
      "cell_type": "markdown",
      "source": [
        "## Are goalkeepers on average taller than outfield players?"
      ],
      "metadata": {
        "id": "4Jp9pRHx8-wQ"
      }
    },
    {
      "cell_type": "code",
      "source": [
        "outfield_mean = df['height'].mean()\n",
        "goalkeeper_mean = gk_df['height'].mean()\n",
        "\n",
        "print(f'The average height of goalkeepers: {round(goalkeeper_mean, 2)} cm')\n",
        "print(f'The average height of outfield players: {round(outfield_mean, 2)} cm')"
      ],
      "metadata": {
        "colab": {
          "base_uri": "https://localhost:8080/"
        },
        "id": "RVuqAXiO9K6n",
        "outputId": "bd97d19d-c6cc-4799-9200-9d164996c821"
      },
      "execution_count": 103,
      "outputs": [
        {
          "output_type": "stream",
          "name": "stdout",
          "text": [
            "The average height of goalkeepers: 188.23 cm\n",
            "The average height of outfield players: 180.99 cm\n"
          ]
        }
      ]
    },
    {
      "cell_type": "markdown",
      "source": [
        "To check if goalkeepers are on average taller, we calculated the average height of goalkeepers and outfield players using their respective height data in a dataframe. The average height of goalkeepers was found to be 188.23 cm, while the average height of outfield players was found to be 180.99 cm. By comparing these two means, it is evident that goalkeepers are taller on average than outfield players. The difference between the two means is about 7.24 cm"
      ],
      "metadata": {
        "id": "Wz__n8uu-UCV"
      }
    },
    {
      "cell_type": "markdown",
      "source": [
        "## Do outfield players have a higher average rating than goalkeepers?"
      ],
      "metadata": {
        "id": "RNvZz7c2-hiX"
      }
    },
    {
      "cell_type": "code",
      "source": [
        "outfield_mean = df['rating'].mean()\n",
        "goalkeeper_mean = gk_df['rating'].mean()\n",
        "\n",
        "print(f'The average rating of goalkeepers: {round(goalkeeper_mean, 2)}')\n",
        "print(f'The average rating of outfield players: {round(outfield_mean, 2)}')"
      ],
      "metadata": {
        "colab": {
          "base_uri": "https://localhost:8080/"
        },
        "id": "z1NMiYbP-to3",
        "outputId": "3c2d95e6-da2d-4583-8bc6-0f7157a1b4bd"
      },
      "execution_count": 106,
      "outputs": [
        {
          "output_type": "stream",
          "name": "stdout",
          "text": [
            "The average rating of goalkeepers: 65.92\n",
            "The average rating of outfield players: 66.77\n"
          ]
        }
      ]
    },
    {
      "cell_type": "markdown",
      "source": [
        "There is a noticeable difference between the average ratings of goalkeepers and outfield players. The average rating of goalkeepers is 65.92, while the average rating of outfield players is 66.77. The difference between the two means is approximately 0.85, which suggests that outfield players, on average, are rated slightly higher than goalkeepers."
      ],
      "metadata": {
        "id": "ZvFKPAs7_WdN"
      }
    },
    {
      "cell_type": "markdown",
      "source": [
        "## Does outfield players positions have any affect on rating?"
      ],
      "metadata": {
        "id": "e1Y65ynV_fD8"
      }
    },
    {
      "cell_type": "code",
      "source": [
        "pivot_table = df.pivot_table(index='position', values='rating', aggfunc='mean')\n",
        "\n",
        "\n",
        "pivot_table.plot(kind='bar')\n",
        "plt.show()"
      ],
      "metadata": {
        "colab": {
          "base_uri": "https://localhost:8080/",
          "height": 454
        },
        "id": "MCc7dOA2_hg4",
        "outputId": "0d67cb2f-47c0-49a2-d8fb-62a8613b78b8"
      },
      "execution_count": 108,
      "outputs": [
        {
          "output_type": "display_data",
          "data": {
            "text/plain": [
              "<Figure size 640x480 with 1 Axes>"
            ],
            "image/png": "[encoded data removed]"
          },
          "metadata": {}
        }
      ]
    },
    {
      "cell_type": "code",
      "source": [
        "from scipy.stats import f_oneway\n",
        "\n",
        "positions = df['position'].unique()\n",
        "\n",
        "for position in positions:\n",
        "    subset = df[df['position'] == position]['rating']\n",
        "    print(position, subset.mean())\n",
        "\n",
        "f_oneway(df[df['position'] == positions[0]]['rating'],\n",
        "         df[df['position'] == positions[1]]['rating'],\n",
        "         df[df['position'] == positions[2]]['rating'])\n"
      ],
      "metadata": {
        "colab": {
          "base_uri": "https://localhost:8080/"
        },
        "id": "XkDW3FxNASOI",
        "outputId": "8b44c85b-9e16-48ea-e32c-f90312c8d451"
      },
      "execution_count": 109,
      "outputs": [
        {
          "output_type": "stream",
          "name": "stdout",
          "text": [
            " M 67.08714238737258\n",
            " A 67.26080691642652\n",
            " D 66.05905511811024\n"
          ]
        },
        {
          "output_type": "execute_result",
          "data": {
            "text/plain": [
              "F_onewayResult(statistic=22.275725117389175, pvalue=2.2537410108207333e-10)"
            ]
          },
          "metadata": {},
          "execution_count": 109
        }
      ]
    },
    {
      "cell_type": "markdown",
      "source": [
        "The results show the output of a one-way ANOVA test. The null hypothesis is that there is no significant difference in the means of the ratings between the different player positions (M, A, and D).\n",
        "\n",
        "The output shows the mean rating for each position: 67.09 for M (midfielders), 67.26 for A (attackers), and 66.06 for D (defenders).\n",
        "\n",
        "The F-statistic is 22.28, and the p-value is 2.25e-10, which is much smaller than the conventional threshold for statistical significance of 0.05. Therefore, we reject the null hypothesis and conclude that there is a significant difference in the mean ratings between the different player positions.\n",
        "\n",
        "Overall, the results suggest that an outfield player's position does have a significant effect on their rating."
      ],
      "metadata": {
        "id": "b_1PHw_xAmWb"
      }
    }
  ]
}